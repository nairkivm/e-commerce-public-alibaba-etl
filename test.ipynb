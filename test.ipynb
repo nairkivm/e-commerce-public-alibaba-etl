{
 "cells": [
  {
   "cell_type": "code",
   "execution_count": 1,
   "metadata": {},
   "outputs": [],
   "source": [
    "from utils.source_requirements import SourceRequirements\n",
    "\n",
    "requirements = SourceRequirements().requirements"
   ]
  },
  {
   "cell_type": "code",
   "execution_count": 1,
   "metadata": {},
   "outputs": [],
   "source": [
    "import pandas as pd\n",
    "\n",
    "df = pd.read_csv('./data_source/order.txt', sep=\"\\t\", encoding_errors='backslashreplace')"
   ]
  },
  {
   "cell_type": "code",
   "execution_count": 2,
   "metadata": {},
   "outputs": [
    {
     "data": {
      "text/plain": [
       "Index(['order_id', 'total_item', 'shipping_fee', 'tax ', 'total_cost',\n",
       "       'order_date', 'delivery_date', 'ship_name ', 'ship_address ',\n",
       "       'tracking_number', 'delivery_status'],\n",
       "      dtype='object')"
      ]
     },
     "execution_count": 2,
     "metadata": {},
     "output_type": "execute_result"
    }
   ],
   "source": [
    "df.columns"
   ]
  },
  {
   "cell_type": "code",
   "execution_count": 3,
   "metadata": {},
   "outputs": [
    {
     "name": "stdout",
     "output_type": "stream",
     "text": [
      "Data Validation for 'orders':\n",
      " > Data shape:  (7, 11)\n",
      " > Data fields-types: {'order_id': dtype('int64'), 'total_item': dtype('int64'), 'shipping_fee': dtype('int64'), 'tax ': dtype('float64'), 'total_cost': dtype('float64'), 'order_date': dtype('O'), 'delivery_date': dtype('O'), 'ship_name ': dtype('O'), 'ship_address ': dtype('O'), 'tracking_number': dtype('O'), 'delivery_status': dtype('int64')}\n",
      " > Columns that should be dropped:\n",
      "      01. tax \n",
      "      02. ship_name \n",
      "      03. ship_address \n",
      " > Columns that should have exist:\n",
      "      01. tax\n",
      "      02. ship_name\n",
      "      03. ship_address\n",
      " > Mismatch type columns:\n",
      "      01. 'order_id' columns should be in 'object' (original: int64)!\n",
      "      02. 'shipping_fee' columns should be in 'float64' (original: int64)!\n",
      "      03. 'order_date' columns should be in 'datetime64[ns]' (original: object)!\n",
      "      04. 'delivery_date' columns should be in 'datetime64[ns]' (original: object)!\n",
      "      05. 'delivery_status' columns should be in 'bool' (original: int64)!\n",
      " > There is no missing value columns v\n",
      " > There is no duplicated data v\n"
     ]
    }
   ],
   "source": [
    "from utils.validate_data import getDataValidation\n",
    "\n",
    "getDataValidation(df, 'orders')"
   ]
  },
  {
   "cell_type": "code",
   "execution_count": 4,
   "metadata": {},
   "outputs": [
    {
     "name": "stdout",
     "output_type": "stream",
     "text": [
      "order_id             int64\n",
      "total_item           int64\n",
      "shipping_fee         int64\n",
      "tax                float64\n",
      "total_cost         float64\n",
      "order_date          object\n",
      "delivery_date       object\n",
      "ship_name           object\n",
      "ship_address        object\n",
      "tracking_number     object\n",
      "delivery_status      int64\n",
      "dtype: object\n",
      "order_id                   object\n",
      "total_item                  int64\n",
      "shipping_fee              float64\n",
      "tax                       float64\n",
      "total_cost                float64\n",
      "order_date         datetime64[ns]\n",
      "delivery_date      datetime64[ns]\n",
      "ship_name                  object\n",
      "ship_address               object\n",
      "tracking_number            object\n",
      "delivery_status              bool\n",
      "dtype: object\n"
     ]
    }
   ],
   "source": [
    "from utils.helper import Helper\n",
    "\n",
    "df.columns = [str(col).strip() for col in df.columns]\n",
    "\n",
    "print(df.dtypes)\n",
    "\n",
    "df = Helper.assignProperType(df, 'orders')\n",
    "print(df.dtypes)"
   ]
  },
  {
   "cell_type": "code",
   "execution_count": 7,
   "metadata": {},
   "outputs": [
    {
     "name": "stdout",
     "output_type": "stream",
     "text": [
      "{'order_id': 1000, 'total_item': 4, 'shipping_fee': 7.0, 'tax': 0.0925, 'total_cost': 50.02, 'order_date': Timestamp('2018-10-17 00:00:00'), 'delivery_date': Timestamp('2018-10-20 00:00:00'), 'ship_name': 'Anna Addison', 'ship_address': '1325 Candy Rd, San Francisco, CA 96123', 'tracking_number': 'ZW60001 ', 'delivery_status': True}\n",
      "{'order_id': 1001, 'total_item': 5, 'shipping_fee': 8.0, 'tax': 0.06, 'total_cost': 62.45, 'order_date': Timestamp('2018-10-15 00:00:00'), 'delivery_date': Timestamp('2018-10-18 00:00:00'), 'ship_name': 'Carol Campbell', 'ship_address': '1931 Brown St, Gainesville, FL 85321', 'tracking_number': 'AB61001 ', 'delivery_status': False}\n",
      "{'order_id': 1002, 'total_item': 7, 'shipping_fee': 10.0, 'tax': 0.087, 'total_cost': 40.33, 'order_date': Timestamp('2018-10-14 00:00:00'), 'delivery_date': Timestamp('2018-10-17 00:00:00'), 'ship_name': 'Julia Jones ', 'ship_address': '1622 Seaside St, Seattle, WA 32569 ', 'tracking_number': 'CD62001 ', 'delivery_status': True}\n",
      "{'order_id': 1003, 'total_item': 9, 'shipping_fee': 20.0, 'tax': 0.0625, 'total_cost': 70.98, 'order_date': Timestamp('2018-10-12 00:00:00'), 'delivery_date': Timestamp('2018-10-15 00:00:00'), 'ship_name': 'Irene Everly ', 'ship_address': '1756 East Dr, Houston, TX 28562', 'tracking_number': 'KB63001 ', 'delivery_status': False}\n",
      "{'order_id': 1004, 'total_item': 6, 'shipping_fee': 7.0, 'tax': 0.0625, 'total_cost': 30.45, 'order_date': Timestamp('2018-10-16 00:00:00'), 'delivery_date': Timestamp('2018-10-19 00:00:00'), 'ship_name': 'Rachel Rose', 'ship_address': '1465 River Dr, Boston, MA 43625 ', 'tracking_number': 'IK64001 ', 'delivery_status': True}\n",
      "{'order_id': 1005, 'total_item': 5, 'shipping_fee': 8.0, 'tax': 0.0625, 'total_cost': 100.2, 'order_date': Timestamp('2018-10-13 00:00:00'), 'delivery_date': Timestamp('2018-10-16 00:00:00'), 'ship_name': 'Sophie Sutton', 'ship_address': '1896 West Dr, Portland, OR 65842', 'tracking_number': 'OP65001 ', 'delivery_status': False}\n",
      "{'order_id': 1006, 'total_item': 3, 'shipping_fee': 5.0, 'tax': 0.1025, 'total_cost': 58.52, 'order_date': Timestamp('2018-10-21 00:00:00'), 'delivery_date': Timestamp('2018-10-24 00:00:00'), 'ship_name': 'Wendy West', 'ship_address': '1252 Vine St, Chicago, IL 73215', 'tracking_number': 'XH66001 ', 'delivery_status': True}\n"
     ]
    }
   ],
   "source": [
    "for i, rows in df.iterrows():\n",
    "    print(rows.to_dict())"
   ]
  },
  {
   "cell_type": "code",
   "execution_count": null,
   "metadata": {},
   "outputs": [],
   "source": []
  },
  {
   "cell_type": "code",
   "execution_count": 9,
   "metadata": {},
   "outputs": [],
   "source": [
    "a = rows.to_dict()"
   ]
  },
  {
   "cell_type": "code",
   "execution_count": 10,
   "metadata": {},
   "outputs": [
    {
     "data": {
      "text/plain": [
       "{'order_id': 1006,\n",
       " 'total_item': 3,\n",
       " 'shipping_fee': 5.0,\n",
       " 'tax': 0.1025,\n",
       " 'total_cost': 58.52,\n",
       " 'order_date': Timestamp('2018-10-21 00:00:00'),\n",
       " 'delivery_date': Timestamp('2018-10-24 00:00:00'),\n",
       " 'ship_name': 'Wendy West',\n",
       " 'ship_address': '1252 Vine St, Chicago, IL 73215',\n",
       " 'tracking_number': 'XH66001 ',\n",
       " 'delivery_status': True}"
      ]
     },
     "execution_count": 10,
     "metadata": {},
     "output_type": "execute_result"
    }
   ],
   "source": [
    "a"
   ]
  },
  {
   "cell_type": "code",
   "execution_count": 12,
   "metadata": {},
   "outputs": [],
   "source": [
    "df2 = df.copy()\n",
    "\n",
    "df2.iloc[0] = a"
   ]
  },
  {
   "cell_type": "code",
   "execution_count": 13,
   "metadata": {},
   "outputs": [
    {
     "data": {
      "text/html": [
       "<div>\n",
       "<style scoped>\n",
       "    .dataframe tbody tr th:only-of-type {\n",
       "        vertical-align: middle;\n",
       "    }\n",
       "\n",
       "    .dataframe tbody tr th {\n",
       "        vertical-align: top;\n",
       "    }\n",
       "\n",
       "    .dataframe thead th {\n",
       "        text-align: right;\n",
       "    }\n",
       "</style>\n",
       "<table border=\"1\" class=\"dataframe\">\n",
       "  <thead>\n",
       "    <tr style=\"text-align: right;\">\n",
       "      <th></th>\n",
       "      <th>order_id</th>\n",
       "      <th>total_item</th>\n",
       "      <th>shipping_fee</th>\n",
       "      <th>tax</th>\n",
       "      <th>total_cost</th>\n",
       "      <th>order_date</th>\n",
       "      <th>delivery_date</th>\n",
       "      <th>ship_name</th>\n",
       "      <th>ship_address</th>\n",
       "      <th>tracking_number</th>\n",
       "      <th>delivery_status</th>\n",
       "    </tr>\n",
       "  </thead>\n",
       "  <tbody>\n",
       "    <tr>\n",
       "      <th>0</th>\n",
       "      <td>1006</td>\n",
       "      <td>3</td>\n",
       "      <td>5.0</td>\n",
       "      <td>0.1025</td>\n",
       "      <td>58.52</td>\n",
       "      <td>2018-10-21</td>\n",
       "      <td>2018-10-24</td>\n",
       "      <td>Wendy West</td>\n",
       "      <td>1252 Vine St, Chicago, IL 73215</td>\n",
       "      <td>XH66001</td>\n",
       "      <td>True</td>\n",
       "    </tr>\n",
       "    <tr>\n",
       "      <th>1</th>\n",
       "      <td>1001</td>\n",
       "      <td>5</td>\n",
       "      <td>8.0</td>\n",
       "      <td>0.0600</td>\n",
       "      <td>62.45</td>\n",
       "      <td>2018-10-15</td>\n",
       "      <td>2018-10-18</td>\n",
       "      <td>Carol Campbell</td>\n",
       "      <td>1931 Brown St, Gainesville, FL 85321</td>\n",
       "      <td>AB61001</td>\n",
       "      <td>False</td>\n",
       "    </tr>\n",
       "    <tr>\n",
       "      <th>2</th>\n",
       "      <td>1002</td>\n",
       "      <td>7</td>\n",
       "      <td>10.0</td>\n",
       "      <td>0.0870</td>\n",
       "      <td>40.33</td>\n",
       "      <td>2018-10-14</td>\n",
       "      <td>2018-10-17</td>\n",
       "      <td>Julia Jones</td>\n",
       "      <td>1622 Seaside St, Seattle, WA 32569</td>\n",
       "      <td>CD62001</td>\n",
       "      <td>True</td>\n",
       "    </tr>\n",
       "    <tr>\n",
       "      <th>3</th>\n",
       "      <td>1003</td>\n",
       "      <td>9</td>\n",
       "      <td>20.0</td>\n",
       "      <td>0.0625</td>\n",
       "      <td>70.98</td>\n",
       "      <td>2018-10-12</td>\n",
       "      <td>2018-10-15</td>\n",
       "      <td>Irene Everly</td>\n",
       "      <td>1756 East Dr, Houston, TX 28562</td>\n",
       "      <td>KB63001</td>\n",
       "      <td>False</td>\n",
       "    </tr>\n",
       "    <tr>\n",
       "      <th>4</th>\n",
       "      <td>1004</td>\n",
       "      <td>6</td>\n",
       "      <td>7.0</td>\n",
       "      <td>0.0625</td>\n",
       "      <td>30.45</td>\n",
       "      <td>2018-10-16</td>\n",
       "      <td>2018-10-19</td>\n",
       "      <td>Rachel Rose</td>\n",
       "      <td>1465 River Dr, Boston, MA 43625</td>\n",
       "      <td>IK64001</td>\n",
       "      <td>True</td>\n",
       "    </tr>\n",
       "    <tr>\n",
       "      <th>5</th>\n",
       "      <td>1005</td>\n",
       "      <td>5</td>\n",
       "      <td>8.0</td>\n",
       "      <td>0.0625</td>\n",
       "      <td>100.20</td>\n",
       "      <td>2018-10-13</td>\n",
       "      <td>2018-10-16</td>\n",
       "      <td>Sophie Sutton</td>\n",
       "      <td>1896 West Dr, Portland, OR 65842</td>\n",
       "      <td>OP65001</td>\n",
       "      <td>False</td>\n",
       "    </tr>\n",
       "    <tr>\n",
       "      <th>6</th>\n",
       "      <td>1006</td>\n",
       "      <td>3</td>\n",
       "      <td>5.0</td>\n",
       "      <td>0.1025</td>\n",
       "      <td>58.52</td>\n",
       "      <td>2018-10-21</td>\n",
       "      <td>2018-10-24</td>\n",
       "      <td>Wendy West</td>\n",
       "      <td>1252 Vine St, Chicago, IL 73215</td>\n",
       "      <td>XH66001</td>\n",
       "      <td>True</td>\n",
       "    </tr>\n",
       "  </tbody>\n",
       "</table>\n",
       "</div>"
      ],
      "text/plain": [
       "  order_id  total_item  shipping_fee     tax  total_cost order_date  \\\n",
       "0     1006           3           5.0  0.1025       58.52 2018-10-21   \n",
       "1     1001           5           8.0  0.0600       62.45 2018-10-15   \n",
       "2     1002           7          10.0  0.0870       40.33 2018-10-14   \n",
       "3     1003           9          20.0  0.0625       70.98 2018-10-12   \n",
       "4     1004           6           7.0  0.0625       30.45 2018-10-16   \n",
       "5     1005           5           8.0  0.0625      100.20 2018-10-13   \n",
       "6     1006           3           5.0  0.1025       58.52 2018-10-21   \n",
       "\n",
       "  delivery_date       ship_name                          ship_address  \\\n",
       "0    2018-10-24      Wendy West       1252 Vine St, Chicago, IL 73215   \n",
       "1    2018-10-18  Carol Campbell  1931 Brown St, Gainesville, FL 85321   \n",
       "2    2018-10-17    Julia Jones    1622 Seaside St, Seattle, WA 32569    \n",
       "3    2018-10-15   Irene Everly        1756 East Dr, Houston, TX 28562   \n",
       "4    2018-10-19     Rachel Rose      1465 River Dr, Boston, MA 43625    \n",
       "5    2018-10-16   Sophie Sutton      1896 West Dr, Portland, OR 65842   \n",
       "6    2018-10-24      Wendy West       1252 Vine St, Chicago, IL 73215   \n",
       "\n",
       "  tracking_number  delivery_status  \n",
       "0        XH66001              True  \n",
       "1        AB61001             False  \n",
       "2        CD62001              True  \n",
       "3        KB63001             False  \n",
       "4        IK64001              True  \n",
       "5        OP65001             False  \n",
       "6        XH66001              True  "
      ]
     },
     "execution_count": 13,
     "metadata": {},
     "output_type": "execute_result"
    },
    {
     "ename": "",
     "evalue": "",
     "output_type": "error",
     "traceback": [
      "\u001b[1;31mThe Kernel crashed while executing code in the current cell or a previous cell. \n",
      "\u001b[1;31mPlease review the code in the cell(s) to identify a possible cause of the failure. \n",
      "\u001b[1;31mClick <a href='https://aka.ms/vscodeJupyterKernelCrash'>here</a> for more info. \n",
      "\u001b[1;31mView Jupyter <a href='command:jupyter.viewOutput'>log</a> for further details."
     ]
    }
   ],
   "source": [
    "df2"
   ]
  },
  {
   "cell_type": "code",
   "execution_count": 12,
   "metadata": {},
   "outputs": [],
   "source": [
    "from utils.source_requirements import SourceRequirements\n",
    "\n",
    "csv_source_paths = {\n",
    "    table_name: path for table_name, path in \n",
    "    zip(\n",
    "        SourceRequirements().requirements.keys(),\n",
    "        [result['source_path'] for result in SourceRequirements().requirements.values()]\n",
    "    )\n",
    "}"
   ]
  },
  {
   "cell_type": "code",
   "execution_count": 13,
   "metadata": {},
   "outputs": [
    {
     "data": {
      "text/plain": [
       "{'carts_has_products': './data_source/carts_has_products.txt',\n",
       " 'categories': './data_source/category.txt',\n",
       " 'options': './data_source/option.txt',\n",
       " 'orders': './data_source/order.txt',\n",
       " 'orders_has_products': './data_source/orders_has_products.txt',\n",
       " 'orders_paid_creditcard': './data_source/orders_paid_creditcard.txt',\n",
       " 'orders_placed_user': './data_source/orders_placed_user.txt',\n",
       " 'products_sold_vendor': './data_source/product_sold_vendor.txt',\n",
       " 'products': './data_source/products.txt',\n",
       " 'products_belong_category': './data_source/products_belong_category.txt',\n",
       " 'products_has_options': './data_source/products_has_options.txt',\n",
       " 'shoppingcarts': './data_source/shoppingcart.txt',\n",
       " 'users': './data_source/user.txt',\n",
       " 'user_has_creditcards': './data_source/user_has_creditcard.txt',\n",
       " 'vendor': './data_source/vendor.txt'}"
      ]
     },
     "execution_count": 13,
     "metadata": {},
     "output_type": "execute_result"
    }
   ],
   "source": [
    "csv_source_paths"
   ]
  },
  {
   "cell_type": "code",
   "execution_count": 17,
   "metadata": {},
   "outputs": [],
   "source": [
    "from datetime import datetime, timedelta\n",
    "\n",
    "s = datetime.now()\n"
   ]
  },
  {
   "cell_type": "code",
   "execution_count": 18,
   "metadata": {},
   "outputs": [],
   "source": [
    "e = datetime.now()"
   ]
  },
  {
   "cell_type": "code",
   "execution_count": 29,
   "metadata": {},
   "outputs": [
    {
     "ename": "TypeError",
     "evalue": "integer argument expected, got float",
     "output_type": "error",
     "traceback": [
      "\u001b[1;31m---------------------------------------------------------------------------\u001b[0m",
      "\u001b[1;31mTypeError\u001b[0m                                 Traceback (most recent call last)",
      "Cell \u001b[1;32mIn[29], line 1\u001b[0m\n\u001b[1;32m----> 1\u001b[0m \u001b[43mdatetime\u001b[49m\u001b[43m(\u001b[49m\u001b[43myear\u001b[49m\u001b[38;5;241;43m=\u001b[39;49m\u001b[38;5;241;43m2000\u001b[39;49m\u001b[43m,\u001b[49m\u001b[43mmonth\u001b[49m\u001b[38;5;241;43m=\u001b[39;49m\u001b[38;5;241;43m1\u001b[39;49m\u001b[43m,\u001b[49m\u001b[43mday\u001b[49m\u001b[38;5;241;43m=\u001b[39;49m\u001b[38;5;241;43m1\u001b[39;49m\u001b[43m,\u001b[49m\u001b[43msecond\u001b[49m\u001b[38;5;241;43m=\u001b[39;49m\u001b[43m(\u001b[49m\u001b[43me\u001b[49m\u001b[38;5;241;43m-\u001b[39;49m\u001b[43ms\u001b[49m\u001b[43m)\u001b[49m\u001b[38;5;241;43m.\u001b[39;49m\u001b[43mtotal_seconds\u001b[49m\u001b[43m(\u001b[49m\u001b[43m)\u001b[49m\u001b[43m)\u001b[49m\n",
      "\u001b[1;31mTypeError\u001b[0m: integer argument expected, got float"
     ]
    }
   ],
   "source": [
    "datetime(year=2000,month=1,day=1,second=(e-s).total_seconds(), microsecond=)"
   ]
  },
  {
   "cell_type": "code",
   "execution_count": 31,
   "metadata": {},
   "outputs": [
    {
     "data": {
      "text/plain": [
       "True"
      ]
     },
     "execution_count": 31,
     "metadata": {},
     "output_type": "execute_result"
    }
   ],
   "source": [
    "a = 'source.fact_orders'\n",
    "a.endswith('fact_orders')"
   ]
  },
  {
   "cell_type": "code",
   "execution_count": 11,
   "metadata": {},
   "outputs": [
    {
     "data": {
      "text/plain": [
       "order_id                   object\n",
       "total_item                  int64\n",
       "shipping_fee              float64\n",
       "tax                       float64\n",
       "total_cost                float64\n",
       "order_date         datetime64[ns]\n",
       "delivery_date      datetime64[ns]\n",
       "ship_name                  object\n",
       "ship_address               object\n",
       "tracking_number            object\n",
       "delivery_status              bool\n",
       "dtype: object"
      ]
     },
     "execution_count": 11,
     "metadata": {},
     "output_type": "execute_result"
    }
   ],
   "source": [
    "x.dtypes"
   ]
  },
  {
   "cell_type": "code",
   "execution_count": 21,
   "metadata": {},
   "outputs": [
    {
     "name": "stdout",
     "output_type": "stream",
     "text": [
      "3\n"
     ]
    }
   ],
   "source": [
    "u = [i for i in range(5) if i > 8]\n",
    "if not u:\n",
    "    print(3)"
   ]
  },
  {
   "cell_type": "code",
   "execution_count": 25,
   "metadata": {},
   "outputs": [],
   "source": [
    "df['hello'] = df['product_id '].multiply(df['quantity'])"
   ]
  },
  {
   "cell_type": "code",
   "execution_count": 26,
   "metadata": {},
   "outputs": [
    {
     "data": {
      "text/html": [
       "<div>\n",
       "<style scoped>\n",
       "    .dataframe tbody tr th:only-of-type {\n",
       "        vertical-align: middle;\n",
       "    }\n",
       "\n",
       "    .dataframe tbody tr th {\n",
       "        vertical-align: top;\n",
       "    }\n",
       "\n",
       "    .dataframe thead th {\n",
       "        text-align: right;\n",
       "    }\n",
       "</style>\n",
       "<table border=\"1\" class=\"dataframe\">\n",
       "  <thead>\n",
       "    <tr style=\"text-align: right;\">\n",
       "      <th></th>\n",
       "      <th>product_id</th>\n",
       "      <th>option_id</th>\n",
       "      <th>quantity</th>\n",
       "      <th>price</th>\n",
       "      <th>on_sale</th>\n",
       "      <th>specs</th>\n",
       "      <th>hello</th>\n",
       "    </tr>\n",
       "  </thead>\n",
       "  <tbody>\n",
       "    <tr>\n",
       "      <th>0</th>\n",
       "      <td>1200</td>\n",
       "      <td>1201</td>\n",
       "      <td>3</td>\n",
       "      <td>1299</td>\n",
       "      <td>1</td>\n",
       "      <td>Macbook Pro 13.3-inch (diagonal) LED-backlit d...</td>\n",
       "      <td>3600</td>\n",
       "    </tr>\n",
       "    <tr>\n",
       "      <th>1</th>\n",
       "      <td>1200</td>\n",
       "      <td>1202</td>\n",
       "      <td>2</td>\n",
       "      <td>2199</td>\n",
       "      <td>0</td>\n",
       "      <td>Macbook Pro 15.4-inch (diagonal) LED-backlit d...</td>\n",
       "      <td>2400</td>\n",
       "    </tr>\n",
       "    <tr>\n",
       "      <th>2</th>\n",
       "      <td>1300</td>\n",
       "      <td>1301</td>\n",
       "      <td>1</td>\n",
       "      <td>999</td>\n",
       "      <td>0</td>\n",
       "      <td>Macbook Air 11.6-inch (diagonal) LED-backlit g...</td>\n",
       "      <td>1300</td>\n",
       "    </tr>\n",
       "    <tr>\n",
       "      <th>3</th>\n",
       "      <td>1300</td>\n",
       "      <td>1302</td>\n",
       "      <td>4</td>\n",
       "      <td>1099</td>\n",
       "      <td>1</td>\n",
       "      <td>Macbook Air 13.3-inch (diagonal) LED-backlit g...</td>\n",
       "      <td>5200</td>\n",
       "    </tr>\n",
       "    <tr>\n",
       "      <th>4</th>\n",
       "      <td>1400</td>\n",
       "      <td>1401</td>\n",
       "      <td>5</td>\n",
       "      <td>799</td>\n",
       "      <td>1</td>\n",
       "      <td>Iphone X Storage capacity 128 GB</td>\n",
       "      <td>7000</td>\n",
       "    </tr>\n",
       "  </tbody>\n",
       "</table>\n",
       "</div>"
      ],
      "text/plain": [
       "   product_id   option_id   quantity  price   on_sale   \\\n",
       "0         1200        1201         3    1299         1   \n",
       "1         1200        1202         2    2199         0   \n",
       "2         1300        1301         1     999         0   \n",
       "3         1300        1302         4    1099         1   \n",
       "4         1400        1401         5     799         1   \n",
       "\n",
       "                                               specs  hello  \n",
       "0  Macbook Pro 13.3-inch (diagonal) LED-backlit d...   3600  \n",
       "1  Macbook Pro 15.4-inch (diagonal) LED-backlit d...   2400  \n",
       "2  Macbook Air 11.6-inch (diagonal) LED-backlit g...   1300  \n",
       "3  Macbook Air 13.3-inch (diagonal) LED-backlit g...   5200  \n",
       "4                   Iphone X Storage capacity 128 GB   7000  "
      ]
     },
     "execution_count": 26,
     "metadata": {},
     "output_type": "execute_result"
    }
   ],
   "source": [
    "df.head()"
   ]
  },
  {
   "cell_type": "code",
   "execution_count": 11,
   "metadata": {},
   "outputs": [],
   "source": [
    "df = pd.DataFrame(columns=['a'])"
   ]
  },
  {
   "cell_type": "code",
   "execution_count": 15,
   "metadata": {},
   "outputs": [
    {
     "name": "stdout",
     "output_type": "stream",
     "text": [
      "bool\n"
     ]
    }
   ],
   "source": [
    "# df['a'] = pd.to_datetime(df['a'])\n",
    "df['a'] = df['a'].astype('bool')\n",
    "for type in df.dtypes:\n",
    "    print(type)"
   ]
  },
  {
   "cell_type": "code",
   "execution_count": 6,
   "metadata": {},
   "outputs": [
    {
     "data": {
      "text/plain": [
       "0"
      ]
     },
     "execution_count": 6,
     "metadata": {},
     "output_type": "execute_result"
    }
   ],
   "source": [
    "def y(t:dict[str, pd.DataFrame]):\n",
    "    return 0\n",
    "\n",
    "y({})"
   ]
  },
  {
   "cell_type": "code",
   "execution_count": 7,
   "metadata": {},
   "outputs": [],
   "source": [
    "from google.oauth2.credentials import Credentials\n",
    "from pipeline_template import GenericPipelineInterface\n",
    "from google.oauth2 import service_account\n",
    "from google.cloud import bigquery\n",
    "from utils.transform import TableTransformation"
   ]
  },
  {
   "cell_type": "code",
   "execution_count": null,
   "metadata": {},
   "outputs": [],
   "source": [
    "a = 1\n"
   ]
  }
 ],
 "metadata": {
  "kernelspec": {
   "display_name": ".venv",
   "language": "python",
   "name": "python3"
  },
  "language_info": {
   "codemirror_mode": {
    "name": "ipython",
    "version": 3
   },
   "file_extension": ".py",
   "mimetype": "text/x-python",
   "name": "python",
   "nbconvert_exporter": "python",
   "pygments_lexer": "ipython3",
   "version": "3.9.13"
  }
 },
 "nbformat": 4,
 "nbformat_minor": 2
}
